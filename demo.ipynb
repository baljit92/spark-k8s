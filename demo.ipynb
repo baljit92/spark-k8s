{
 "cells": [
  {
   "cell_type": "code",
   "execution_count": 1,
   "id": "latest-rapid",
   "metadata": {},
   "outputs": [],
   "source": [
    "from ipynb.fs.full.spark_application import get_spark_session\n",
    "\n",
    "spark = get_spark_session(\"s3_stack\", swan_spark_conf)"
   ]
  },
  {
   "cell_type": "code",
   "execution_count": 2,
   "id": "curious-puppy",
   "metadata": {},
   "outputs": [],
   "source": [
    "try:\n",
    "    df = spark.read.csv('s3a://cmucc-datasets/twitter/s21/',header=True)\n",
    "    df.printSchema()\n",
    "except Exception as exp:\n",
    "    print(exp)"
   ]
  },
  {
   "cell_type": "code",
   "execution_count": 9,
   "id": "reasonable-cherry",
   "metadata": {},
   "outputs": [],
   "source": [
    "spark.stop()"
   ]
  },
  {
   "cell_type": "code",
   "execution_count": null,
   "id": "unlike-proposal",
   "metadata": {},
   "outputs": [],
   "source": []
  }
 ],
 "metadata": {
  "kernelspec": {
   "display_name": "Python 3",
   "language": "python",
   "name": "python3"
  },
  "language_info": {
   "codemirror_mode": {
    "name": "ipython",
    "version": 3
   },
   "file_extension": ".py",
   "mimetype": "text/x-python",
   "name": "python",
   "nbconvert_exporter": "python",
   "pygments_lexer": "ipython3",
   "version": "3.7.3"
  }
 },
 "nbformat": 4,
 "nbformat_minor": 5
}
